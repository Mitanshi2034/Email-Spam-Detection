{
 "cells": [
  {
   "cell_type": "code",
   "execution_count": null,
   "id": "4e53dff4",
   "metadata": {},
   "outputs": [],
   "source": [
    "#importing the libaries\n",
    "import pandas as pd\n",
    "import numpy as np\n",
    "\n"
   ]
  }
 ],
 "metadata": {
  "language_info": {
   "name": "python"
  }
 },
 "nbformat": 4,
 "nbformat_minor": 5
}
